{
  "nbformat": 4,
  "nbformat_minor": 0,
  "metadata": {
    "colab": {
      "provenance": [],
      "authorship_tag": "ABX9TyMVAm8OlSIXqcBtD1dbCXyt",
      "include_colab_link": true
    },
    "kernelspec": {
      "name": "python3",
      "display_name": "Python 3"
    },
    "language_info": {
      "name": "python"
    }
  },
  "cells": [
    {
      "cell_type": "markdown",
      "metadata": {
        "id": "view-in-github",
        "colab_type": "text"
      },
      "source": [
        "<a href=\"https://colab.research.google.com/github/GoodnessOno/MEDICAL-AI-MODEL/blob/main/Medical_Diagnosis_AI.ipynb\" target=\"_parent\"><img src=\"https://colab.research.google.com/assets/colab-badge.svg\" alt=\"Open In Colab\"/></a>"
      ]
    },
    {
      "cell_type": "code",
      "execution_count": 2,
      "metadata": {
        "colab": {
          "base_uri": "https://localhost:8080/"
        },
        "id": "FVcJlJjBX2Sd",
        "outputId": "469e4051-b898-4908-a7e6-679330851779"
      },
      "outputs": [
        {
          "output_type": "stream",
          "name": "stdout",
          "text": [
            "Mounted at /content/drive\n"
          ]
        }
      ],
      "source": [
        "from google.colab import drive\n",
        "drive.mount('/content/drive')\n"
      ]
    },
    {
      "cell_type": "code",
      "source": [
        "# 2. Unzip your file (update path if needed)\n",
        "import zipfile\n",
        "import os\n",
        "\n",
        "zip_path = '/content/drive/MyDrive/hospital-archive.zip'  # Update this\n",
        "extract_path = '/content/disease-dataset'\n",
        "\n",
        "with zipfile.ZipFile(zip_path, 'r') as zip_ref:\n",
        "    zip_ref.extractall(extract_path)\n",
        "\n",
        "print(\"Extraction complete.\")\n"
      ],
      "metadata": {
        "colab": {
          "base_uri": "https://localhost:8080/"
        },
        "id": "kCHmDXCdYKZ1",
        "outputId": "a5030322-915e-4fb5-b680-b95c919c903f"
      },
      "execution_count": 3,
      "outputs": [
        {
          "output_type": "stream",
          "name": "stdout",
          "text": [
            "Extraction complete.\n"
          ]
        }
      ]
    },
    {
      "cell_type": "code",
      "source": [
        "import pandas as pd\n",
        "from sklearn.model_selection import train_test_split\n",
        "from sklearn.preprocessing import LabelEncoder\n",
        "from sklearn.ensemble import RandomForestClassifier\n",
        "from sklearn.metrics import accuracy_score, classification_report\n",
        "\n",
        "# Load the dataset\n",
        "df = pd.read_csv('/content/drive/MyDrive/hospital-archive/dataset.csv')\n",
        "\n",
        "# Fill NaNs with empty strings\n",
        "df.fillna('', inplace=True)\n",
        "\n",
        "# Step 1: Convert symptoms into a single list per row\n",
        "symptom_cols = [col for col in df.columns if col.startswith(\"Symptom_\")]\n",
        "df['all_symptoms'] = df[symptom_cols].apply(lambda row: [s for s in row if s != ''], axis=1)\n",
        "\n",
        "# Step 2: Build the complete set of unique symptoms\n",
        "from sklearn.preprocessing import MultiLabelBinarizer\n",
        "\n",
        "mlb = MultiLabelBinarizer()\n",
        "symptom_matrix = mlb.fit_transform(df['all_symptoms'])\n",
        "\n",
        "# Step 3: Create the final feature dataframe\n",
        "X = pd.DataFrame(symptom_matrix, columns=mlb.classes_)\n",
        "\n",
        "# Step 4: Encode target labels (Disease)\n",
        "le = LabelEncoder()\n",
        "y = le.fit_transform(df['Disease'])\n",
        "\n",
        "# Step 5: Train/test split\n",
        "X_train, X_test, y_train, y_test = train_test_split(X, y, test_size=0.2, random_state=42)\n",
        "\n",
        "# Step 6: Train model\n",
        "model = RandomForestClassifier(n_estimators=100, random_state=42)\n",
        "model.fit(X_train, y_train)\n",
        "\n",
        "# Step 7: Predict and evaluate\n",
        "y_pred = model.predict(X_test)\n",
        "print(\"Accuracy:\", accuracy_score(y_test, y_pred))\n",
        "print(classification_report(y_test, y_pred, target_names=le.classes_))\n"
      ],
      "metadata": {
        "id": "aKzx2gotfUmr",
        "colab": {
          "base_uri": "https://localhost:8080/"
        },
        "outputId": "45e9573e-ac14-4651-a021-2914b0189251"
      },
      "execution_count": 4,
      "outputs": [
        {
          "output_type": "stream",
          "name": "stdout",
          "text": [
            "Accuracy: 1.0\n",
            "                                         precision    recall  f1-score   support\n",
            "\n",
            "(vertigo) Paroymsal  Positional Vertigo       1.00      1.00      1.00        18\n",
            "                                   AIDS       1.00      1.00      1.00        30\n",
            "                                   Acne       1.00      1.00      1.00        24\n",
            "                    Alcoholic hepatitis       1.00      1.00      1.00        25\n",
            "                                Allergy       1.00      1.00      1.00        24\n",
            "                              Arthritis       1.00      1.00      1.00        23\n",
            "                       Bronchial Asthma       1.00      1.00      1.00        33\n",
            "                   Cervical spondylosis       1.00      1.00      1.00        23\n",
            "                            Chicken pox       1.00      1.00      1.00        21\n",
            "                    Chronic cholestasis       1.00      1.00      1.00        15\n",
            "                            Common Cold       1.00      1.00      1.00        23\n",
            "                                 Dengue       1.00      1.00      1.00        26\n",
            "                              Diabetes        1.00      1.00      1.00        21\n",
            "           Dimorphic hemmorhoids(piles)       1.00      1.00      1.00        29\n",
            "                          Drug Reaction       1.00      1.00      1.00        24\n",
            "                       Fungal infection       1.00      1.00      1.00        19\n",
            "                                   GERD       1.00      1.00      1.00        28\n",
            "                        Gastroenteritis       1.00      1.00      1.00        25\n",
            "                           Heart attack       1.00      1.00      1.00        23\n",
            "                            Hepatitis B       1.00      1.00      1.00        27\n",
            "                            Hepatitis C       1.00      1.00      1.00        26\n",
            "                            Hepatitis D       1.00      1.00      1.00        23\n",
            "                            Hepatitis E       1.00      1.00      1.00        29\n",
            "                          Hypertension        1.00      1.00      1.00        25\n",
            "                        Hyperthyroidism       1.00      1.00      1.00        24\n",
            "                           Hypoglycemia       1.00      1.00      1.00        26\n",
            "                         Hypothyroidism       1.00      1.00      1.00        21\n",
            "                               Impetigo       1.00      1.00      1.00        24\n",
            "                               Jaundice       1.00      1.00      1.00        19\n",
            "                                Malaria       1.00      1.00      1.00        22\n",
            "                               Migraine       1.00      1.00      1.00        25\n",
            "                        Osteoarthristis       1.00      1.00      1.00        22\n",
            "           Paralysis (brain hemorrhage)       1.00      1.00      1.00        24\n",
            "                    Peptic ulcer diseae       1.00      1.00      1.00        17\n",
            "                              Pneumonia       1.00      1.00      1.00        28\n",
            "                              Psoriasis       1.00      1.00      1.00        22\n",
            "                           Tuberculosis       1.00      1.00      1.00        25\n",
            "                                Typhoid       1.00      1.00      1.00        19\n",
            "                Urinary tract infection       1.00      1.00      1.00        26\n",
            "                         Varicose veins       1.00      1.00      1.00        22\n",
            "                            hepatitis A       1.00      1.00      1.00        34\n",
            "\n",
            "                               accuracy                           1.00       984\n",
            "                              macro avg       1.00      1.00      1.00       984\n",
            "                           weighted avg       1.00      1.00      1.00       984\n",
            "\n"
          ]
        }
      ]
    },
    {
      "cell_type": "code",
      "source": [
        "import joblib\n",
        "\n",
        "joblib.dump(model, 'medical_diagnosis_model.pkl')\n",
        "joblib.dump(le, 'disease_label_encoder.pkl')\n",
        "joblib.dump(mlb, 'symptom_binarizer.pkl')\n"
      ],
      "metadata": {
        "id": "6kOivYCvfUX2",
        "colab": {
          "base_uri": "https://localhost:8080/"
        },
        "outputId": "1f76a817-75c5-4055-ab9e-3ef95bf78a4e"
      },
      "execution_count": 5,
      "outputs": [
        {
          "output_type": "execute_result",
          "data": {
            "text/plain": [
              "['symptom_binarizer.pkl']"
            ]
          },
          "metadata": {},
          "execution_count": 5
        }
      ]
    }
  ]
}