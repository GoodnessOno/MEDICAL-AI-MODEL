{
  "nbformat": 4,
  "nbformat_minor": 0,
  "metadata": {
    "colab": {
      "provenance": [],
      "authorship_tag": "ABX9TyP35ZKq6oU5RIOCHeYeBizP",
      "include_colab_link": true
    },
    "kernelspec": {
      "name": "python3",
      "display_name": "Python 3"
    },
    "language_info": {
      "name": "python"
    }
  },
  "cells": [
    {
      "cell_type": "markdown",
      "metadata": {
        "id": "view-in-github",
        "colab_type": "text"
      },
      "source": [
        "<a href=\"https://colab.research.google.com/github/GoodnessOno/MEDICAL-AI-MODEL/blob/main/NIH_XRAY_CLASSIFICATION.ipynb\" target=\"_parent\"><img src=\"https://colab.research.google.com/assets/colab-badge.svg\" alt=\"Open In Colab\"/></a>"
      ]
    },
    {
      "cell_type": "code",
      "source": [
        "import pandas as pd\n",
        "%matplotlib inline\n",
        "import matplotlib.pyplot as plt\n",
        "import scipy.misc\n",
        "import os\n",
        "import io\n",
        "import glob\n",
        "import numpy as np\n",
        "import tensorflow as tf\n",
        "from six import BytesIO\n",
        "from PIL import Image, ImageDraw, ImageFont\n",
        "from tensorflow.keras.applications.inception_v3 import InceptionV3\n",
        "from tensorflow.keras import layers\n",
        "from tensorflow.keras import Model\n",
        "import matplotlib\n",
        "from tensorflow.keras.optimizers import RMSprop\n",
        "import os\n",
        "import zipfile\n",
        "from tensorflow.keras.preprocessing.image import ImageDataGenerator\n",
        "import matplotlib.image as mpimg\n",
        "\n",
        "LEARNING_RATE = 0.0001\n",
        "repo_url = 'https://github.com/GoodnessOno/MEDICAL-AI-MODEL'\n",
        "IMAGE_HEIGHT, IMAGE_WIDTH = 256, 256\n",
        "\n"
      ],
      "metadata": {
        "id": "VVbysTjB56aO"
      },
      "execution_count": 3,
      "outputs": []
    },
    {
      "cell_type": "code",
      "execution_count": 1,
      "metadata": {
        "id": "k16IvRGIX05H"
      },
      "outputs": [],
      "source": [
        "finding = \"Cardiomegaly\""
      ]
    },
    {
      "cell_type": "code",
      "source": [
        "df = pd.read_csv"
      ],
      "metadata": {
        "id": "ZNNZ4mzX5fCs"
      },
      "execution_count": null,
      "outputs": []
    }
  ]
}